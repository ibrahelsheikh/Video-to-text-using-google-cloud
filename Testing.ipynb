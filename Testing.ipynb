{
 "cells": [
  {
   "cell_type": "code",
   "execution_count": 10,
   "outputs": [
    {
     "name": "stdout",
     "output_type": "stream",
     "text": [
      "audio file already exists\n"
     ]
    }
   ],
   "source": [
    "import os\n",
    "import pathlib\n",
    "\n",
    "\n",
    "# convert video to .wav file by cmd\n",
    "class videoconverter:\n",
    "\n",
    "    def __init__(self):\n",
    "        pass\n",
    "\n",
    "    # create list to store all videos in given dirictory if given path is dirictory\n",
    "    def get_videos_paths(given_path):\n",
    "        video_paths = []\n",
    "        if os.path.isdir(given_path):\n",
    "            for file in os.listdir(given_path):\n",
    "                if file.endswith(\".mp4\") or file.endswith(\".mkv\") \\\n",
    "                        or file.endswith(\".avi\") or file.endswith(\".mov\") \\\n",
    "                        or file.endswith(\".flv\") or file.endswith(\".wmv\") \\\n",
    "                        or file.endswith(\".mpg\") or file.endswith(\".mpeg\") \\\n",
    "                        or file.endswith(\".3gp\") or file.endswith(\".webm\") \\\n",
    "                        or file.endswith(\".vob\") or file.endswith(\".m4v\") \\\n",
    "                        or file.endswith(\".rmvb\") or file.endswith(\".rm\") \\\n",
    "                        or file.endswith(\".asf\") or file.endswith(\".swf\") \\\n",
    "                        or file.endswith(\".m2ts\") or file.endswith(\".mts\") \\\n",
    "                        or file.endswith(\".ts\") or file.endswith(\".ogv\") \\\n",
    "                        or file.endswith(\".ogg\") or file.endswith(\".mxf\") \\\n",
    "                        or file.endswith(\".dv\") or file.endswith(\".dvr-ms\") \\\n",
    "                        or file.endswith(\".amv\") or file.endswith(\".qt\") \\\n",
    "                        or file.endswith(\".f4v\") or file.endswith(\".flv\") \\\n",
    "                        or file.endswith(\".f4p\") or file.endswith(\".f4a\") \\\n",
    "                        or file.endswith(\".f4b\"):\n",
    "                    video_paths.append(given_path + \"\\\\\" + file)\n",
    "        else:\n",
    "            video_paths.append(given_path)\n",
    "        return video_paths\n",
    "\n",
    "    # convert single video to .wav file\n",
    "    def video_to_wav(video_path):\n",
    "        # create output dirictory\n",
    "\n",
    "        # get video name without extension\n",
    "        file_name = pathlib.Path(video_path).stem\n",
    "\n",
    "        # get video directory\n",
    "        dir_path = os.path.dirname(video_path)\n",
    "\n",
    "        # aduio path\n",
    "        aduio_path = dir_path + \"\\\\\" + file_name + \".wav\"\n",
    "\n",
    "        # check if video exists\n",
    "        if os.path.exists(video_path):\n",
    "\n",
    "            # check if aduio file exists\n",
    "            if os.path.exists(aduio_path) == False:\n",
    "                print(\"video found\")\n",
    "                # convert video to .wav file\n",
    "\n",
    "                aduio_path = os.path.join(dir_path, file_name + \".wav\")\n",
    "                print(aduio_path)\n",
    "\n",
    "                os.system(f\"ffmpeg -i {video_path}  {dir_path}/{file_name}.wav\\\"\")\n",
    "                print(\"Done\")\n",
    "            else:\n",
    "                print(\"audio file already exists\")\n",
    "        else:\n",
    "            print(\"video not found\")\n",
    "\n",
    "    # Convert all videos in given dirictory to .wav files\n",
    "    def convert(given_path):\n",
    "\n",
    "        # send videos paths to video_to_wav function\n",
    "        for video_path in videoconverter.get_videos_paths(given_path):\n",
    "            videoconverter.video_to_wav(video_path)\n",
    "\n",
    "\n",
    "# test\n",
    "videoconverter.convert(\"E:\\\\test\\\\cairokey.mp4\")\n"
   ],
   "metadata": {
    "collapsed": false
   }
  },
  {
   "cell_type": "code",
   "execution_count": 11,
   "outputs": [
    {
     "name": "stdout",
     "output_type": "stream",
     "text": [
      "output dirictory created\n"
     ]
    }
   ],
   "source": [
    "# create by Ibrahim elsheikh\n",
    "# at 2022-10-1\n",
    "\n",
    "import os\n",
    "import pathlib\n",
    "\n",
    "given_path = \"E:\\cairokey.mp4\"\n",
    "\n",
    "\n",
    "\n",
    "output_dirictory_path = os.path.dirname(given_path) + \"\\\\output\"\n",
    "def is_file_or_dirictory(path):\n",
    "    if os.path.isdir(path):\n",
    "        return \"dirictory\"\n",
    "    elif os.path.isfile(path):\n",
    "        return \"file\"\n",
    "    else:\n",
    "        return \"not found\"\n",
    "\n",
    "\n",
    "# check if output dirictory exists if not create it if yes pass\n",
    "if os.path.exists(output_dirictory_path) == False:\n",
    "    os.mkdir(output_dirictory_path)\n",
    "    print(\"output dirictory created\")\n",
    "else:\n",
    "    print(\"output dirictory already exists\")\n"
   ],
   "metadata": {
    "collapsed": false
   }
  },
  {
   "cell_type": "code",
   "execution_count": 12,
   "outputs": [
    {
     "name": "stdout",
     "output_type": "stream",
     "text": [
      "output dirictory already exists\n"
     ]
    }
   ],
   "source": [
    "# create by Ibrahim elsheikh\n",
    "# at 2022-10-1\n",
    "\n",
    "import os\n",
    "import pathlib\n",
    "\n",
    "given_path = \"E:\\cairokey.mp4\"\n",
    "\n",
    "\n",
    "\n",
    "output_dirictory_path = os.path.dirname(given_path) + \"\\\\output\"\n",
    "def is_file_or_dirictory(path):\n",
    "    if os.path.isdir(path):\n",
    "        return \"dirictory\"\n",
    "    elif os.path.isfile(path):\n",
    "        return \"file\"\n",
    "    else:\n",
    "        return \"not found\"\n",
    "\n",
    "\n",
    "# check if output dirictory exists if not create it if yes pass\n",
    "if os.path.exists(output_dirictory_path) == False:\n",
    "    os.mkdir(output_dirictory_path)\n",
    "    print(\"output dirictory created\")\n",
    "else:\n",
    "    print(\"output dirictory already exists\")\n"
   ],
   "metadata": {
    "collapsed": false
   }
  },
  {
   "cell_type": "code",
   "execution_count": 13,
   "outputs": [
    {
     "name": "stdout",
     "output_type": "stream",
     "text": [
      "output dirictory created\n"
     ]
    }
   ],
   "source": [
    "# create by Ibrahim elsheikh\n",
    "# at 2022-10-1\n",
    "\n",
    "import os\n",
    "import pathlib\n",
    "\n",
    "given_path = \"E:\\cairokey.mp4\"\n",
    "\n",
    "\n",
    "\n",
    "output_dirictory_path = os.path.dirname(given_path) + \"\\\\output\"\n",
    "\n",
    "def is_file_or_dirictory(path):\n",
    "    if os.path.isdir(path):\n",
    "        return \"dirictory\"\n",
    "    elif os.path.isfile(path):\n",
    "        return \"file\"\n",
    "    else:\n",
    "        return \"not found\"\n",
    "\n",
    "\n",
    "# check if output dirictory exists if not create it if yes pass\n",
    "if os.path.exists(output_dirictory_path) == False:\n",
    "    os.mkdir(output_dirictory_path)\n",
    "    print(\"output dirictory created\")\n",
    "else:\n",
    "    print(\"output dirictory already exists\")\n"
   ],
   "metadata": {
    "collapsed": false
   }
  },
  {
   "cell_type": "code",
   "execution_count": null,
   "outputs": [],
   "source": [],
   "metadata": {
    "collapsed": false
   }
  }
 ],
 "metadata": {
  "kernelspec": {
   "display_name": "Python 3",
   "language": "python",
   "name": "python3"
  },
  "language_info": {
   "codemirror_mode": {
    "name": "ipython",
    "version": 2
   },
   "file_extension": ".py",
   "mimetype": "text/x-python",
   "name": "python",
   "nbconvert_exporter": "python",
   "pygments_lexer": "ipython2",
   "version": "2.7.6"
  }
 },
 "nbformat": 4,
 "nbformat_minor": 0
}
